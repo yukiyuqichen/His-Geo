{
 "cells": [
  {
   "cell_type": "code",
   "execution_count": 1,
   "metadata": {},
   "outputs": [
    {
     "name": "stdout",
     "output_type": "stream",
     "text": [
      "Requirement already satisfied: his_geo in c:\\programdata\\anaconda3\\envs\\nlp\\lib\\site-packages (0.1.11)\n",
      "Requirement already satisfied: geopy in c:\\programdata\\anaconda3\\envs\\nlp\\lib\\site-packages (from his_geo) (2.4.0)\n",
      "Requirement already satisfied: keplergl in c:\\programdata\\anaconda3\\envs\\nlp\\lib\\site-packages (from his_geo) (0.3.2)\n",
      "Requirement already satisfied: openai in c:\\programdata\\anaconda3\\envs\\nlp\\lib\\site-packages (from his_geo) (1.6.1)\n",
      "Requirement already satisfied: shapely in c:\\programdata\\anaconda3\\envs\\nlp\\lib\\site-packages (from his_geo) (2.0.1)\n",
      "Requirement already satisfied: geopandas in c:\\programdata\\anaconda3\\envs\\nlp\\lib\\site-packages (from his_geo) (0.14.1)\n",
      "Requirement already satisfied: setuptools in c:\\programdata\\anaconda3\\envs\\nlp\\lib\\site-packages (from his_geo) (67.6.0)\n",
      "Requirement already satisfied: packaging in c:\\programdata\\anaconda3\\envs\\nlp\\lib\\site-packages (from geopandas->his_geo) (23.0)\n",
      "Requirement already satisfied: pandas>=1.4.0 in c:\\programdata\\anaconda3\\envs\\nlp\\lib\\site-packages (from geopandas->his_geo) (2.0.0)\n",
      "Requirement already satisfied: fiona>=1.8.21 in c:\\programdata\\anaconda3\\envs\\nlp\\lib\\site-packages (from geopandas->his_geo) (1.9.4.post1)\n",
      "Requirement already satisfied: pyproj>=3.3.0 in c:\\programdata\\anaconda3\\envs\\nlp\\lib\\site-packages (from geopandas->his_geo) (3.5.0)\n",
      "Requirement already satisfied: numpy>=1.14 in c:\\programdata\\anaconda3\\envs\\nlp\\lib\\site-packages (from shapely->his_geo) (1.26.2)\n",
      "Requirement already satisfied: geographiclib<3,>=1.52 in c:\\programdata\\anaconda3\\envs\\nlp\\lib\\site-packages (from geopy->his_geo) (2.0)\n",
      "Requirement already satisfied: ipywidgets<8,>=7.0.0 in c:\\programdata\\anaconda3\\envs\\nlp\\lib\\site-packages (from keplergl->his_geo) (7.8.0)\n",
      "Requirement already satisfied: traittypes>=0.2.1 in c:\\programdata\\anaconda3\\envs\\nlp\\lib\\site-packages (from keplergl->his_geo) (0.2.1)\n",
      "Requirement already satisfied: sniffio in c:\\programdata\\anaconda3\\envs\\nlp\\lib\\site-packages (from openai->his_geo) (1.3.0)\n",
      "Requirement already satisfied: distro<2,>=1.7.0 in c:\\programdata\\anaconda3\\envs\\nlp\\lib\\site-packages (from openai->his_geo) (1.8.0)\n",
      "Requirement already satisfied: anyio<5,>=3.5.0 in c:\\programdata\\anaconda3\\envs\\nlp\\lib\\site-packages (from openai->his_geo) (3.7.1)\n",
      "Requirement already satisfied: typing-extensions<5,>=4.7 in c:\\programdata\\anaconda3\\envs\\nlp\\lib\\site-packages (from openai->his_geo) (4.9.0)\n",
      "Requirement already satisfied: tqdm>4 in c:\\programdata\\anaconda3\\envs\\nlp\\lib\\site-packages (from openai->his_geo) (4.65.0)\n",
      "Requirement already satisfied: httpx<1,>=0.23.0 in c:\\programdata\\anaconda3\\envs\\nlp\\lib\\site-packages (from openai->his_geo) (0.25.0)\n",
      "Requirement already satisfied: pydantic<3,>=1.9.0 in c:\\programdata\\anaconda3\\envs\\nlp\\lib\\site-packages (from openai->his_geo) (1.10.13)\n",
      "Requirement already satisfied: exceptiongroup in c:\\programdata\\anaconda3\\envs\\nlp\\lib\\site-packages (from anyio<5,>=3.5.0->openai->his_geo) (1.1.1)\n",
      "Requirement already satisfied: idna>=2.8 in c:\\programdata\\anaconda3\\envs\\nlp\\lib\\site-packages (from anyio<5,>=3.5.0->openai->his_geo) (2.10)\n",
      "Requirement already satisfied: certifi in c:\\programdata\\anaconda3\\envs\\nlp\\lib\\site-packages (from fiona>=1.8.21->geopandas->his_geo) (2022.12.7)\n",
      "Requirement already satisfied: six in c:\\programdata\\anaconda3\\envs\\nlp\\lib\\site-packages (from fiona>=1.8.21->geopandas->his_geo) (1.16.0)\n",
      "Requirement already satisfied: click~=8.0 in c:\\programdata\\anaconda3\\envs\\nlp\\lib\\site-packages (from fiona>=1.8.21->geopandas->his_geo) (8.1.3)\n",
      "Requirement already satisfied: cligj>=0.5 in c:\\programdata\\anaconda3\\envs\\nlp\\lib\\site-packages (from fiona>=1.8.21->geopandas->his_geo) (0.7.2)\n",
      "Requirement already satisfied: click-plugins>=1.0 in c:\\programdata\\anaconda3\\envs\\nlp\\lib\\site-packages (from fiona>=1.8.21->geopandas->his_geo) (1.1.1)\n",
      "Requirement already satisfied: attrs>=19.2.0 in c:\\programdata\\anaconda3\\envs\\nlp\\lib\\site-packages (from fiona>=1.8.21->geopandas->his_geo) (22.2.0)\n",
      "Requirement already satisfied: httpcore<0.19.0,>=0.18.0 in c:\\programdata\\anaconda3\\envs\\nlp\\lib\\site-packages (from httpx<1,>=0.23.0->openai->his_geo) (0.18.0)\n",
      "Requirement already satisfied: widgetsnbextension~=3.6.5 in c:\\programdata\\anaconda3\\envs\\nlp\\lib\\site-packages (from ipywidgets<8,>=7.0.0->keplergl->his_geo) (3.6.5)\n",
      "Requirement already satisfied: ipython>=4.0.0 in c:\\programdata\\anaconda3\\envs\\nlp\\lib\\site-packages (from ipywidgets<8,>=7.0.0->keplergl->his_geo) (8.11.0)\n",
      "Requirement already satisfied: traitlets>=4.3.1 in c:\\programdata\\anaconda3\\envs\\nlp\\lib\\site-packages (from ipywidgets<8,>=7.0.0->keplergl->his_geo) (5.9.0)\n",
      "Requirement already satisfied: comm>=0.1.3 in c:\\programdata\\anaconda3\\envs\\nlp\\lib\\site-packages (from ipywidgets<8,>=7.0.0->keplergl->his_geo) (0.1.4)\n",
      "Requirement already satisfied: jupyterlab-widgets<3,>=1.0.0 in c:\\programdata\\anaconda3\\envs\\nlp\\lib\\site-packages (from ipywidgets<8,>=7.0.0->keplergl->his_geo) (1.1.5)\n",
      "Requirement already satisfied: ipython-genutils~=0.2.0 in c:\\programdata\\anaconda3\\envs\\nlp\\lib\\site-packages (from ipywidgets<8,>=7.0.0->keplergl->his_geo) (0.2.0)\n",
      "Requirement already satisfied: tzdata>=2022.1 in c:\\programdata\\anaconda3\\envs\\nlp\\lib\\site-packages (from pandas>=1.4.0->geopandas->his_geo) (2023.3)\n",
      "Requirement already satisfied: python-dateutil>=2.8.2 in c:\\programdata\\anaconda3\\envs\\nlp\\lib\\site-packages (from pandas>=1.4.0->geopandas->his_geo) (2.8.2)\n",
      "Requirement already satisfied: pytz>=2020.1 in c:\\programdata\\anaconda3\\envs\\nlp\\lib\\site-packages (from pandas>=1.4.0->geopandas->his_geo) (2023.3)\n",
      "Requirement already satisfied: colorama in c:\\programdata\\anaconda3\\envs\\nlp\\lib\\site-packages (from tqdm>4->openai->his_geo) (0.4.6)\n",
      "Requirement already satisfied: h11<0.15,>=0.13 in c:\\programdata\\anaconda3\\envs\\nlp\\lib\\site-packages (from httpcore<0.19.0,>=0.18.0->httpx<1,>=0.23.0->openai->his_geo) (0.14.0)\n",
      "Requirement already satisfied: pygments>=2.4.0 in c:\\programdata\\anaconda3\\envs\\nlp\\lib\\site-packages (from ipython>=4.0.0->ipywidgets<8,>=7.0.0->keplergl->his_geo) (2.14.0)\n",
      "Requirement already satisfied: backcall in c:\\programdata\\anaconda3\\envs\\nlp\\lib\\site-packages (from ipython>=4.0.0->ipywidgets<8,>=7.0.0->keplergl->his_geo) (0.2.0)\n",
      "Requirement already satisfied: matplotlib-inline in c:\\programdata\\anaconda3\\envs\\nlp\\lib\\site-packages (from ipython>=4.0.0->ipywidgets<8,>=7.0.0->keplergl->his_geo) (0.1.6)\n",
      "Requirement already satisfied: pickleshare in c:\\programdata\\anaconda3\\envs\\nlp\\lib\\site-packages (from ipython>=4.0.0->ipywidgets<8,>=7.0.0->keplergl->his_geo) (0.7.5)\n",
      "Requirement already satisfied: stack-data in c:\\programdata\\anaconda3\\envs\\nlp\\lib\\site-packages (from ipython>=4.0.0->ipywidgets<8,>=7.0.0->keplergl->his_geo) (0.6.2)\n",
      "Requirement already satisfied: decorator in c:\\programdata\\anaconda3\\envs\\nlp\\lib\\site-packages (from ipython>=4.0.0->ipywidgets<8,>=7.0.0->keplergl->his_geo) (5.1.1)\n",
      "Requirement already satisfied: prompt-toolkit!=3.0.37,<3.1.0,>=3.0.30 in c:\\programdata\\anaconda3\\envs\\nlp\\lib\\site-packages (from ipython>=4.0.0->ipywidgets<8,>=7.0.0->keplergl->his_geo) (3.0.38)\n",
      "Requirement already satisfied: jedi>=0.16 in c:\\programdata\\anaconda3\\envs\\nlp\\lib\\site-packages (from ipython>=4.0.0->ipywidgets<8,>=7.0.0->keplergl->his_geo) (0.18.2)\n",
      "Requirement already satisfied: notebook>=4.4.1 in c:\\programdata\\anaconda3\\envs\\nlp\\lib\\site-packages (from widgetsnbextension~=3.6.5->ipywidgets<8,>=7.0.0->keplergl->his_geo) (7.0.3)\n",
      "Requirement already satisfied: parso<0.9.0,>=0.8.0 in c:\\programdata\\anaconda3\\envs\\nlp\\lib\\site-packages (from jedi>=0.16->ipython>=4.0.0->ipywidgets<8,>=7.0.0->keplergl->his_geo) (0.8.3)\n",
      "Requirement already satisfied: jupyterlab<5,>=4.0.2 in c:\\programdata\\anaconda3\\envs\\nlp\\lib\\site-packages (from notebook>=4.4.1->widgetsnbextension~=3.6.5->ipywidgets<8,>=7.0.0->keplergl->his_geo) (4.0.5)\n",
      "Requirement already satisfied: jupyterlab-server<3,>=2.22.1 in c:\\programdata\\anaconda3\\envs\\nlp\\lib\\site-packages (from notebook>=4.4.1->widgetsnbextension~=3.6.5->ipywidgets<8,>=7.0.0->keplergl->his_geo) (2.24.0)\n",
      "Requirement already satisfied: notebook-shim<0.3,>=0.2 in c:\\programdata\\anaconda3\\envs\\nlp\\lib\\site-packages (from notebook>=4.4.1->widgetsnbextension~=3.6.5->ipywidgets<8,>=7.0.0->keplergl->his_geo) (0.2.3)\n",
      "Requirement already satisfied: tornado>=6.2.0 in c:\\programdata\\anaconda3\\envs\\nlp\\lib\\site-packages (from notebook>=4.4.1->widgetsnbextension~=3.6.5->ipywidgets<8,>=7.0.0->keplergl->his_geo) (6.2)\n",
      "Requirement already satisfied: jupyter-server<3,>=2.4.0 in c:\\programdata\\anaconda3\\envs\\nlp\\lib\\site-packages (from notebook>=4.4.1->widgetsnbextension~=3.6.5->ipywidgets<8,>=7.0.0->keplergl->his_geo) (2.7.3)\n",
      "Requirement already satisfied: wcwidth in c:\\programdata\\anaconda3\\envs\\nlp\\lib\\site-packages (from prompt-toolkit!=3.0.37,<3.1.0,>=3.0.30->ipython>=4.0.0->ipywidgets<8,>=7.0.0->keplergl->his_geo) (0.2.6)\n",
      "Requirement already satisfied: asttokens>=2.1.0 in c:\\programdata\\anaconda3\\envs\\nlp\\lib\\site-packages (from stack-data->ipython>=4.0.0->ipywidgets<8,>=7.0.0->keplergl->his_geo) (2.2.1)\n",
      "Requirement already satisfied: pure-eval in c:\\programdata\\anaconda3\\envs\\nlp\\lib\\site-packages (from stack-data->ipython>=4.0.0->ipywidgets<8,>=7.0.0->keplergl->his_geo) (0.2.2)\n",
      "Requirement already satisfied: executing>=1.2.0 in c:\\programdata\\anaconda3\\envs\\nlp\\lib\\site-packages (from stack-data->ipython>=4.0.0->ipywidgets<8,>=7.0.0->keplergl->his_geo) (1.2.0)\n",
      "Requirement already satisfied: jupyter-events>=0.6.0 in c:\\programdata\\anaconda3\\envs\\nlp\\lib\\site-packages (from jupyter-server<3,>=2.4.0->notebook>=4.4.1->widgetsnbextension~=3.6.5->ipywidgets<8,>=7.0.0->keplergl->his_geo) (0.7.0)\n",
      "Requirement already satisfied: jupyter-core!=5.0.*,>=4.12 in c:\\programdata\\anaconda3\\envs\\nlp\\lib\\site-packages (from jupyter-server<3,>=2.4.0->notebook>=4.4.1->widgetsnbextension~=3.6.5->ipywidgets<8,>=7.0.0->keplergl->his_geo) (5.3.1)\n",
      "Requirement already satisfied: nbconvert>=6.4.4 in c:\\programdata\\anaconda3\\envs\\nlp\\lib\\site-packages (from jupyter-server<3,>=2.4.0->notebook>=4.4.1->widgetsnbextension~=3.6.5->ipywidgets<8,>=7.0.0->keplergl->his_geo) (7.8.0)\n",
      "Requirement already satisfied: overrides in c:\\programdata\\anaconda3\\envs\\nlp\\lib\\site-packages (from jupyter-server<3,>=2.4.0->notebook>=4.4.1->widgetsnbextension~=3.6.5->ipywidgets<8,>=7.0.0->keplergl->his_geo) (7.4.0)\n",
      "Requirement already satisfied: argon2-cffi in c:\\programdata\\anaconda3\\envs\\nlp\\lib\\site-packages (from jupyter-server<3,>=2.4.0->notebook>=4.4.1->widgetsnbextension~=3.6.5->ipywidgets<8,>=7.0.0->keplergl->his_geo) (23.1.0)\n",
      "Requirement already satisfied: terminado>=0.8.3 in c:\\programdata\\anaconda3\\envs\\nlp\\lib\\site-packages (from jupyter-server<3,>=2.4.0->notebook>=4.4.1->widgetsnbextension~=3.6.5->ipywidgets<8,>=7.0.0->keplergl->his_geo) (0.17.1)\n",
      "Requirement already satisfied: jupyter-client>=7.4.4 in c:\\programdata\\anaconda3\\envs\\nlp\\lib\\site-packages (from jupyter-server<3,>=2.4.0->notebook>=4.4.1->widgetsnbextension~=3.6.5->ipywidgets<8,>=7.0.0->keplergl->his_geo) (8.1.0)\n",
      "Requirement already satisfied: nbformat>=5.3.0 in c:\\programdata\\anaconda3\\envs\\nlp\\lib\\site-packages (from jupyter-server<3,>=2.4.0->notebook>=4.4.1->widgetsnbextension~=3.6.5->ipywidgets<8,>=7.0.0->keplergl->his_geo) (5.8.0)\n",
      "Requirement already satisfied: pywinpty in c:\\programdata\\anaconda3\\envs\\nlp\\lib\\site-packages (from jupyter-server<3,>=2.4.0->notebook>=4.4.1->widgetsnbextension~=3.6.5->ipywidgets<8,>=7.0.0->keplergl->his_geo) (2.0.11)\n",
      "Requirement already satisfied: websocket-client in c:\\programdata\\anaconda3\\envs\\nlp\\lib\\site-packages (from jupyter-server<3,>=2.4.0->notebook>=4.4.1->widgetsnbextension~=3.6.5->ipywidgets<8,>=7.0.0->keplergl->his_geo) (1.6.2)\n",
      "Requirement already satisfied: send2trash>=1.8.2 in c:\\programdata\\anaconda3\\envs\\nlp\\lib\\site-packages (from jupyter-server<3,>=2.4.0->notebook>=4.4.1->widgetsnbextension~=3.6.5->ipywidgets<8,>=7.0.0->keplergl->his_geo) (1.8.2)\n",
      "Requirement already satisfied: jinja2 in c:\\programdata\\anaconda3\\envs\\nlp\\lib\\site-packages (from jupyter-server<3,>=2.4.0->notebook>=4.4.1->widgetsnbextension~=3.6.5->ipywidgets<8,>=7.0.0->keplergl->his_geo) (3.1.2)\n",
      "Requirement already satisfied: jupyter-server-terminals in c:\\programdata\\anaconda3\\envs\\nlp\\lib\\site-packages (from jupyter-server<3,>=2.4.0->notebook>=4.4.1->widgetsnbextension~=3.6.5->ipywidgets<8,>=7.0.0->keplergl->his_geo) (0.4.4)\n",
      "Requirement already satisfied: prometheus-client in c:\\programdata\\anaconda3\\envs\\nlp\\lib\\site-packages (from jupyter-server<3,>=2.4.0->notebook>=4.4.1->widgetsnbextension~=3.6.5->ipywidgets<8,>=7.0.0->keplergl->his_geo) (0.17.1)\n",
      "Requirement already satisfied: pyzmq>=24 in c:\\programdata\\anaconda3\\envs\\nlp\\lib\\site-packages (from jupyter-server<3,>=2.4.0->notebook>=4.4.1->widgetsnbextension~=3.6.5->ipywidgets<8,>=7.0.0->keplergl->his_geo) (25.1.1)\n",
      "Requirement already satisfied: ipykernel in c:\\programdata\\anaconda3\\envs\\nlp\\lib\\site-packages (from jupyterlab<5,>=4.0.2->notebook>=4.4.1->widgetsnbextension~=3.6.5->ipywidgets<8,>=7.0.0->keplergl->his_geo) (6.15.0)\n",
      "Requirement already satisfied: jupyter-lsp>=2.0.0 in c:\\programdata\\anaconda3\\envs\\nlp\\lib\\site-packages (from jupyterlab<5,>=4.0.2->notebook>=4.4.1->widgetsnbextension~=3.6.5->ipywidgets<8,>=7.0.0->keplergl->his_geo) (2.2.0)\n",
      "Requirement already satisfied: async-lru>=1.0.0 in c:\\programdata\\anaconda3\\envs\\nlp\\lib\\site-packages (from jupyterlab<5,>=4.0.2->notebook>=4.4.1->widgetsnbextension~=3.6.5->ipywidgets<8,>=7.0.0->keplergl->his_geo) (2.0.4)\n",
      "Requirement already satisfied: tomli in c:\\programdata\\anaconda3\\envs\\nlp\\lib\\site-packages (from jupyterlab<5,>=4.0.2->notebook>=4.4.1->widgetsnbextension~=3.6.5->ipywidgets<8,>=7.0.0->keplergl->his_geo) (2.0.1)\n",
      "Requirement already satisfied: json5>=0.9.0 in c:\\programdata\\anaconda3\\envs\\nlp\\lib\\site-packages (from jupyterlab-server<3,>=2.22.1->notebook>=4.4.1->widgetsnbextension~=3.6.5->ipywidgets<8,>=7.0.0->keplergl->his_geo) (0.9.14)\n",
      "Requirement already satisfied: requests>=2.28 in c:\\programdata\\anaconda3\\envs\\nlp\\lib\\site-packages (from jupyterlab-server<3,>=2.22.1->notebook>=4.4.1->widgetsnbextension~=3.6.5->ipywidgets<8,>=7.0.0->keplergl->his_geo) (2.28.2)\n",
      "Requirement already satisfied: babel>=2.10 in c:\\programdata\\anaconda3\\envs\\nlp\\lib\\site-packages (from jupyterlab-server<3,>=2.22.1->notebook>=4.4.1->widgetsnbextension~=3.6.5->ipywidgets<8,>=7.0.0->keplergl->his_geo) (2.12.1)\n",
      "Requirement already satisfied: jsonschema>=4.17.3 in c:\\programdata\\anaconda3\\envs\\nlp\\lib\\site-packages (from jupyterlab-server<3,>=2.22.1->notebook>=4.4.1->widgetsnbextension~=3.6.5->ipywidgets<8,>=7.0.0->keplergl->his_geo) (4.19.0)\n",
      "Requirement already satisfied: MarkupSafe>=2.0 in c:\\programdata\\anaconda3\\envs\\nlp\\lib\\site-packages (from jinja2->jupyter-server<3,>=2.4.0->notebook>=4.4.1->widgetsnbextension~=3.6.5->ipywidgets<8,>=7.0.0->keplergl->his_geo) (2.1.2)\n",
      "Requirement already satisfied: referencing>=0.28.4 in c:\\programdata\\anaconda3\\envs\\nlp\\lib\\site-packages (from jsonschema>=4.17.3->jupyterlab-server<3,>=2.22.1->notebook>=4.4.1->widgetsnbextension~=3.6.5->ipywidgets<8,>=7.0.0->keplergl->his_geo) (0.30.2)\n",
      "Requirement already satisfied: rpds-py>=0.7.1 in c:\\programdata\\anaconda3\\envs\\nlp\\lib\\site-packages (from jsonschema>=4.17.3->jupyterlab-server<3,>=2.22.1->notebook>=4.4.1->widgetsnbextension~=3.6.5->ipywidgets<8,>=7.0.0->keplergl->his_geo) (0.10.0)\n",
      "Requirement already satisfied: jsonschema-specifications>=2023.03.6 in c:\\programdata\\anaconda3\\envs\\nlp\\lib\\site-packages (from jsonschema>=4.17.3->jupyterlab-server<3,>=2.22.1->notebook>=4.4.1->widgetsnbextension~=3.6.5->ipywidgets<8,>=7.0.0->keplergl->his_geo) (2023.7.1)\n",
      "Requirement already satisfied: platformdirs>=2.5 in c:\\programdata\\anaconda3\\envs\\nlp\\lib\\site-packages (from jupyter-core!=5.0.*,>=4.12->jupyter-server<3,>=2.4.0->notebook>=4.4.1->widgetsnbextension~=3.6.5->ipywidgets<8,>=7.0.0->keplergl->his_geo) (3.2.0)\n",
      "Requirement already satisfied: pywin32>=300 in c:\\programdata\\anaconda3\\envs\\nlp\\lib\\site-packages (from jupyter-core!=5.0.*,>=4.12->jupyter-server<3,>=2.4.0->notebook>=4.4.1->widgetsnbextension~=3.6.5->ipywidgets<8,>=7.0.0->keplergl->his_geo) (305.1)\n",
      "Requirement already satisfied: rfc3986-validator>=0.1.1 in c:\\programdata\\anaconda3\\envs\\nlp\\lib\\site-packages (from jupyter-events>=0.6.0->jupyter-server<3,>=2.4.0->notebook>=4.4.1->widgetsnbextension~=3.6.5->ipywidgets<8,>=7.0.0->keplergl->his_geo) (0.1.1)\n",
      "Requirement already satisfied: python-json-logger>=2.0.4 in c:\\programdata\\anaconda3\\envs\\nlp\\lib\\site-packages (from jupyter-events>=0.6.0->jupyter-server<3,>=2.4.0->notebook>=4.4.1->widgetsnbextension~=3.6.5->ipywidgets<8,>=7.0.0->keplergl->his_geo) (2.0.7)\n",
      "Requirement already satisfied: rfc3339-validator in c:\\programdata\\anaconda3\\envs\\nlp\\lib\\site-packages (from jupyter-events>=0.6.0->jupyter-server<3,>=2.4.0->notebook>=4.4.1->widgetsnbextension~=3.6.5->ipywidgets<8,>=7.0.0->keplergl->his_geo) (0.1.4)\n",
      "Requirement already satisfied: pyyaml>=5.3 in c:\\programdata\\anaconda3\\envs\\nlp\\lib\\site-packages (from jupyter-events>=0.6.0->jupyter-server<3,>=2.4.0->notebook>=4.4.1->widgetsnbextension~=3.6.5->ipywidgets<8,>=7.0.0->keplergl->his_geo) (6.0)\n",
      "Requirement already satisfied: bleach!=5.0.0 in c:\\programdata\\anaconda3\\envs\\nlp\\lib\\site-packages (from nbconvert>=6.4.4->jupyter-server<3,>=2.4.0->notebook>=4.4.1->widgetsnbextension~=3.6.5->ipywidgets<8,>=7.0.0->keplergl->his_geo) (6.0.0)\n",
      "Requirement already satisfied: beautifulsoup4 in c:\\programdata\\anaconda3\\envs\\nlp\\lib\\site-packages (from nbconvert>=6.4.4->jupyter-server<3,>=2.4.0->notebook>=4.4.1->widgetsnbextension~=3.6.5->ipywidgets<8,>=7.0.0->keplergl->his_geo) (4.12.2)\n",
      "Requirement already satisfied: mistune<4,>=2.0.3 in c:\\programdata\\anaconda3\\envs\\nlp\\lib\\site-packages (from nbconvert>=6.4.4->jupyter-server<3,>=2.4.0->notebook>=4.4.1->widgetsnbextension~=3.6.5->ipywidgets<8,>=7.0.0->keplergl->his_geo) (3.0.1)\n",
      "Requirement already satisfied: pandocfilters>=1.4.1 in c:\\programdata\\anaconda3\\envs\\nlp\\lib\\site-packages (from nbconvert>=6.4.4->jupyter-server<3,>=2.4.0->notebook>=4.4.1->widgetsnbextension~=3.6.5->ipywidgets<8,>=7.0.0->keplergl->his_geo) (1.5.0)\n",
      "Requirement already satisfied: jupyterlab-pygments in c:\\programdata\\anaconda3\\envs\\nlp\\lib\\site-packages (from nbconvert>=6.4.4->jupyter-server<3,>=2.4.0->notebook>=4.4.1->widgetsnbextension~=3.6.5->ipywidgets<8,>=7.0.0->keplergl->his_geo) (0.2.2)\n",
      "Requirement already satisfied: defusedxml in c:\\programdata\\anaconda3\\envs\\nlp\\lib\\site-packages (from nbconvert>=6.4.4->jupyter-server<3,>=2.4.0->notebook>=4.4.1->widgetsnbextension~=3.6.5->ipywidgets<8,>=7.0.0->keplergl->his_geo) (0.7.1)\n",
      "Requirement already satisfied: tinycss2 in c:\\programdata\\anaconda3\\envs\\nlp\\lib\\site-packages (from nbconvert>=6.4.4->jupyter-server<3,>=2.4.0->notebook>=4.4.1->widgetsnbextension~=3.6.5->ipywidgets<8,>=7.0.0->keplergl->his_geo) (1.2.1)\n",
      "Requirement already satisfied: nbclient>=0.5.0 in c:\\programdata\\anaconda3\\envs\\nlp\\lib\\site-packages (from nbconvert>=6.4.4->jupyter-server<3,>=2.4.0->notebook>=4.4.1->widgetsnbextension~=3.6.5->ipywidgets<8,>=7.0.0->keplergl->his_geo) (0.8.0)\n",
      "Requirement already satisfied: fastjsonschema in c:\\programdata\\anaconda3\\envs\\nlp\\lib\\site-packages (from nbformat>=5.3.0->jupyter-server<3,>=2.4.0->notebook>=4.4.1->widgetsnbextension~=3.6.5->ipywidgets<8,>=7.0.0->keplergl->his_geo) (2.16.3)\n",
      "Requirement already satisfied: urllib3<1.27,>=1.21.1 in c:\\programdata\\anaconda3\\envs\\nlp\\lib\\site-packages (from requests>=2.28->jupyterlab-server<3,>=2.22.1->notebook>=4.4.1->widgetsnbextension~=3.6.5->ipywidgets<8,>=7.0.0->keplergl->his_geo) (1.26.15)\n",
      "Requirement already satisfied: charset-normalizer<4,>=2 in c:\\programdata\\anaconda3\\envs\\nlp\\lib\\site-packages (from requests>=2.28->jupyterlab-server<3,>=2.22.1->notebook>=4.4.1->widgetsnbextension~=3.6.5->ipywidgets<8,>=7.0.0->keplergl->his_geo) (3.1.0)\n",
      "Requirement already satisfied: argon2-cffi-bindings in c:\\programdata\\anaconda3\\envs\\nlp\\lib\\site-packages (from argon2-cffi->jupyter-server<3,>=2.4.0->notebook>=4.4.1->widgetsnbextension~=3.6.5->ipywidgets<8,>=7.0.0->keplergl->his_geo) (21.2.0)\n",
      "Requirement already satisfied: psutil in c:\\programdata\\anaconda3\\envs\\nlp\\lib\\site-packages (from ipykernel->jupyterlab<5,>=4.0.2->notebook>=4.4.1->widgetsnbextension~=3.6.5->ipywidgets<8,>=7.0.0->keplergl->his_geo) (5.9.0)\n",
      "Requirement already satisfied: debugpy>=1.0 in c:\\programdata\\anaconda3\\envs\\nlp\\lib\\site-packages (from ipykernel->jupyterlab<5,>=4.0.2->notebook>=4.4.1->widgetsnbextension~=3.6.5->ipywidgets<8,>=7.0.0->keplergl->his_geo) (1.6.7.post1)\n",
      "Requirement already satisfied: nest-asyncio in c:\\programdata\\anaconda3\\envs\\nlp\\lib\\site-packages (from ipykernel->jupyterlab<5,>=4.0.2->notebook>=4.4.1->widgetsnbextension~=3.6.5->ipywidgets<8,>=7.0.0->keplergl->his_geo) (1.5.6)\n",
      "Requirement already satisfied: webencodings in c:\\programdata\\anaconda3\\envs\\nlp\\lib\\site-packages (from bleach!=5.0.0->nbconvert>=6.4.4->jupyter-server<3,>=2.4.0->notebook>=4.4.1->widgetsnbextension~=3.6.5->ipywidgets<8,>=7.0.0->keplergl->his_geo) (0.5.1)\n",
      "Requirement already satisfied: fqdn in c:\\programdata\\anaconda3\\envs\\nlp\\lib\\site-packages (from jsonschema>=4.17.3->jupyterlab-server<3,>=2.22.1->notebook>=4.4.1->widgetsnbextension~=3.6.5->ipywidgets<8,>=7.0.0->keplergl->his_geo) (1.5.1)\n",
      "Requirement already satisfied: jsonpointer>1.13 in c:\\programdata\\anaconda3\\envs\\nlp\\lib\\site-packages (from jsonschema>=4.17.3->jupyterlab-server<3,>=2.22.1->notebook>=4.4.1->widgetsnbextension~=3.6.5->ipywidgets<8,>=7.0.0->keplergl->his_geo) (2.4)\n",
      "Requirement already satisfied: webcolors>=1.11 in c:\\programdata\\anaconda3\\envs\\nlp\\lib\\site-packages (from jsonschema>=4.17.3->jupyterlab-server<3,>=2.22.1->notebook>=4.4.1->widgetsnbextension~=3.6.5->ipywidgets<8,>=7.0.0->keplergl->his_geo) (1.13)\n",
      "Requirement already satisfied: uri-template in c:\\programdata\\anaconda3\\envs\\nlp\\lib\\site-packages (from jsonschema>=4.17.3->jupyterlab-server<3,>=2.22.1->notebook>=4.4.1->widgetsnbextension~=3.6.5->ipywidgets<8,>=7.0.0->keplergl->his_geo) (1.3.0)\n",
      "Requirement already satisfied: isoduration in c:\\programdata\\anaconda3\\envs\\nlp\\lib\\site-packages (from jsonschema>=4.17.3->jupyterlab-server<3,>=2.22.1->notebook>=4.4.1->widgetsnbextension~=3.6.5->ipywidgets<8,>=7.0.0->keplergl->his_geo) (20.11.0)\n",
      "Requirement already satisfied: cffi>=1.0.1 in c:\\programdata\\anaconda3\\envs\\nlp\\lib\\site-packages (from argon2-cffi-bindings->argon2-cffi->jupyter-server<3,>=2.4.0->notebook>=4.4.1->widgetsnbextension~=3.6.5->ipywidgets<8,>=7.0.0->keplergl->his_geo) (1.15.1)\n",
      "Requirement already satisfied: soupsieve>1.2 in c:\\programdata\\anaconda3\\envs\\nlp\\lib\\site-packages (from beautifulsoup4->nbconvert>=6.4.4->jupyter-server<3,>=2.4.0->notebook>=4.4.1->widgetsnbextension~=3.6.5->ipywidgets<8,>=7.0.0->keplergl->his_geo) (2.4.1)\n",
      "Requirement already satisfied: pycparser in c:\\programdata\\anaconda3\\envs\\nlp\\lib\\site-packages (from cffi>=1.0.1->argon2-cffi-bindings->argon2-cffi->jupyter-server<3,>=2.4.0->notebook>=4.4.1->widgetsnbextension~=3.6.5->ipywidgets<8,>=7.0.0->keplergl->his_geo) (2.21)\n",
      "Requirement already satisfied: arrow>=0.15.0 in c:\\programdata\\anaconda3\\envs\\nlp\\lib\\site-packages (from isoduration->jsonschema>=4.17.3->jupyterlab-server<3,>=2.22.1->notebook>=4.4.1->widgetsnbextension~=3.6.5->ipywidgets<8,>=7.0.0->keplergl->his_geo) (1.2.3)\n"
     ]
    }
   ],
   "source": [
    "!pip install his_geo --upgrade"
   ]
  },
  {
   "cell_type": "code",
   "execution_count": 1,
   "metadata": {},
   "outputs": [],
   "source": [
    "import pandas as pd\n",
    "\n",
    "from his_geo import geocoder"
   ]
  },
  {
   "cell_type": "markdown",
   "metadata": {},
   "source": [
    "# Load data"
   ]
  },
  {
   "cell_type": "code",
   "execution_count": 2,
   "metadata": {},
   "outputs": [],
   "source": [
    "df = pd.read_csv('./test/input.csv', encoding='utf-8-sig')\n",
    "addresses = df[\"location\"].tolist()\n"
   ]
  },
  {
   "cell_type": "markdown",
   "metadata": {},
   "source": [
    "# Initialize geocoder"
   ]
  },
  {
   "cell_type": "code",
   "execution_count": 3,
   "metadata": {},
   "outputs": [],
   "source": [
    "geocoder_test = geocoder.Geocoder(addresses, \n",
    "                                  lang=\"ch\", \n",
    "                                  projection_crs=\"EPSG:2333\", \n",
    "                                  address_separator=\"-\")"
   ]
  },
  {
   "cell_type": "markdown",
   "metadata": {},
   "source": [
    "# Geocoding"
   ]
  },
  {
   "cell_type": "code",
   "execution_count": 4,
   "metadata": {},
   "outputs": [],
   "source": [
    "geocoder_test.match_address()\n",
    "\n",
    "geocoder_test.detect_direction()\n",
    "\n",
    "geocoder_test.calculate_point()"
   ]
  },
  {
   "cell_type": "markdown",
   "metadata": {},
   "source": [
    "# Visualize on the map"
   ]
  },
  {
   "cell_type": "code",
   "execution_count": 5,
   "metadata": {},
   "outputs": [
    {
     "name": "stdout",
     "output_type": "stream",
     "text": [
      "User Guide: https://docs.kepler.gl/docs/keplergl-jupyter\n"
     ]
    },
    {
     "data": {
      "application/vnd.jupyter.widget-view+json": {
       "model_id": "0a1e6c6bc19140c3b8c58f7994fc9590",
       "version_major": 2,
       "version_minor": 0
      },
      "text/plain": [
       "KeplerGl(data={'unnamed': {'index': [0, 2, 3, 4, 5, 6, 7, 8, 9, 10, 11, 12, 13, 14, 15, 17, 18, 19, 20, 21, 22…"
      ]
     },
     "metadata": {},
     "output_type": "display_data"
    }
   ],
   "source": [
    "map = geocoder_test.visualize()\n",
    "map"
   ]
  },
  {
   "cell_type": "markdown",
   "metadata": {},
   "source": []
  },
  {
   "cell_type": "markdown",
   "metadata": {},
   "source": [
    "# Save the result"
   ]
  },
  {
   "cell_type": "code",
   "execution_count": 7,
   "metadata": {},
   "outputs": [],
   "source": [
    "geocoder_test.data.to_csv(\"./test/output.csv\", encoding='utf-8-sig')"
   ]
  },
  {
   "cell_type": "code",
   "execution_count": 9,
   "metadata": {},
   "outputs": [],
   "source": [
    "def generate_n_grams_chinese(text):\n",
    "    \"\"\" Generate n-grams from a given Chinese text for all n from 2 to the length of text. \"\"\"\n",
    "    max_n = len(text)\n",
    "    n_grams = []\n",
    "    for n in range(2, max_n + 1):\n",
    "        for i in range(len(text) - n + 1):\n",
    "            n_gram = text[i:i + n]\n",
    "            n_grams.append(n_gram)\n",
    "    \n",
    "    return n_grams"
   ]
  },
  {
   "cell_type": "code",
   "execution_count": 11,
   "metadata": {},
   "outputs": [
    {
     "data": {
      "text/plain": [
       "['东郡', '郡南', '南燕', '燕县', '东郡南', '郡南燕', '南燕县', '东郡南燕', '郡南燕县', '东郡南燕县']"
      ]
     },
     "execution_count": 11,
     "metadata": {},
     "output_type": "execute_result"
    }
   ],
   "source": [
    "generate_n_grams_chinese(\"东郡南燕县\")"
   ]
  }
 ],
 "metadata": {
  "kernelspec": {
   "display_name": "Python 3",
   "language": "python",
   "name": "python3"
  },
  "language_info": {
   "codemirror_mode": {
    "name": "ipython",
    "version": 3
   },
   "file_extension": ".py",
   "mimetype": "text/x-python",
   "name": "python",
   "nbconvert_exporter": "python",
   "pygments_lexer": "ipython3",
   "version": "3.10.9"
  }
 },
 "nbformat": 4,
 "nbformat_minor": 2
}
